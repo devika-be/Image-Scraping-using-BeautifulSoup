{
 "cells": [
  {
   "cell_type": "code",
   "execution_count": 17,
   "id": "9fcedf73",
   "metadata": {},
   "outputs": [],
   "source": [
    "import requests\n",
    "import logging\n",
    "import os"
   ]
  },
  {
   "cell_type": "code",
   "execution_count": 18,
   "id": "7f316a10",
   "metadata": {},
   "outputs": [],
   "source": [
    "from bs4 import BeautifulSoup\n",
    "from urllib.request import urlopen"
   ]
  },
  {
   "cell_type": "code",
   "execution_count": 19,
   "id": "76781311",
   "metadata": {},
   "outputs": [],
   "source": [
    "save_dir=\"images/\"\n",
    "if not os.path.exists(save_dir):\n",
    "    os.makedirs(save_dir)"
   ]
  },
  {
   "cell_type": "code",
   "execution_count": 20,
   "id": "0d552a0b",
   "metadata": {},
   "outputs": [],
   "source": [
    "query=\"varun dhawan\"\n",
    "#url=https://www.google.com/search?q=query&sxsrf=AJOqlzUuff1RXi2mm8I_OqOwT9VjfIDL7w:1676996143273&source=lnms&tbm=isch&sa=X&ved=2ahUKEwiq-qK7gaf9AhXUgVYBHYReAfYQ_AUoA3oECAEQBQ&biw=1920&bih=937&dpr=1#imgrc=1th7VhSesfMJ4M"
   ]
  },
  {
   "cell_type": "code",
   "execution_count": 21,
   "id": "7b6f0af0",
   "metadata": {},
   "outputs": [],
   "source": [
    "response=requests.get(f\"https://www.google.com/search?q={query}&sxsrf=AJOqlzUuff1RXi2mm8I_OqOwT9VjfIDL7w:1676996143273&source=lnms&tbm=isch&sa=X&ved=2ahUKEwiq-qK7gaf9AhXUgVYBHYReAfYQ_AUoA3oECAEQBQ&biw=1920&bih=937&dpr=1#imgrc=1th7VhSesfMJ4M\")"
   ]
  },
  {
   "cell_type": "code",
   "execution_count": 22,
   "id": "6d282a1f",
   "metadata": {},
   "outputs": [
    {
     "data": {
      "text/plain": [
       "<Response [200]>"
      ]
     },
     "execution_count": 22,
     "metadata": {},
     "output_type": "execute_result"
    }
   ],
   "source": [
    "response"
   ]
  },
  {
   "cell_type": "code",
   "execution_count": 23,
   "id": "5944d9a7",
   "metadata": {},
   "outputs": [],
   "source": [
    "soup=BeautifulSoup(response.content,\"html.parser\")"
   ]
  },
  {
   "cell_type": "code",
   "execution_count": 24,
   "id": "eae3ce80",
   "metadata": {},
   "outputs": [
    {
     "data": {
      "text/plain": [
       "<!DOCTYPE html PUBLIC \"-//WAPFORUM//DTD XHTML Mobile 1.0//EN\" \"http://www.wapforum.org/DTD/xhtml-mobile10.dtd\">\n",
       "<html lang=\"en-IN\" xmlns=\"http://www.w3.org/1999/xhtml\"><head><meta content=\"application/xhtml+xml; charset=utf-8\" http-equiv=\"Content-Type\"/><meta content=\"no-cache\" name=\"Cache-Control\"/><title>varun dhawan - Google Search</title><style>a{text-decoration:none;color:inherit}a:hover{text-decoration:underline}a img{border:0}body{font-family:arial,sans-serif;padding:8px;margin:0 auto;max-width:700px;min-width:240px;}.FbhRzb{border-left:thin solid #dadce0;border-right:thin solid #dadce0;border-top:thin solid #dadce0;height:40px;overflow:hidden}.n692Zd{margin-bottom:10px}.cvifge{height:40px;border-spacing:0}.QvGUP{height:40px;padding:0 8px 0 8px;vertical-align:top}.O4cRJf{height:40px;width:100%;padding:0;padding-right:16px}.O1ePr{height:40px;padding:0;vertical-align:top}.kgJEQe{height:36px;width:98px;vertical-align:top;margin-top:4px}.lXLRf{vertical-align:top}.MhzMZd{border:0;vertical-align:middle;font-size:14px;height:40px;padding:0;width:100%;padding-left:16px}.xB0fq{height:40px;border:none;font-size:14px;background-color:#1a73e8;color:#fff;padding:0 16px;margin:0;vertical-align:top;cursor:pointer}.xB0fq:focus{border:1px solid #1a73e8}.M7pB2{border:thin solid #dadce0;margin:0 0 3px 0;font-size:13px;font-weight:500;height:40px}.euZec{width:100%;height:40px;text-align:center;border-spacing:0}table.euZec td{padding:0;width:25%}.QIqI7{display:inline-block;padding-top:4px;font-weight:bold;color:#4285f4}.EY24We{border-bottom:2px solid #4285f4}.CsQyDc{display:inline-block;color:#70757a}.TuS8Ad{font-size:14px}.HddGcc{padding:8px;color:#70757a}.dzp8ae{font-weight:bold;color:#3c4043}.rEM8G{color:#70757a}.bookcf{table-layout:fixed;width:100%;border-spacing:0}.InWNIe{text-align:center}.uZgmoc{border:thin solid #dadce0;color:#70757a;font-size:14px;text-align:center;table-layout:fixed;width:100%}.frGj1b{display:block;padding:12px 0 12px 0;width:100%}.BnJWBc{text-align:center;padding:6px 0 13px 0;height:35px}.e3goi{vertical-align:top;padding:0;height:180px}.GpQGbf{margin:auto;border-collapse:collapse;border-spacing:0;width:100%}</style></head><body><style>.X6ZCif{color:#202124;font-size:11px;line-height:16px;display:inline-block;padding-top:2px;overflow:hidden;padding-bottom:4px;width:100%}.TwVfHd{border-radius:16px;border:thin solid #dadce0;display:inline-block;padding:8px 8px;margin-right:8px;margin-bottom:4px}.yekiAe{background-color:#dadce0}.mnTahd{width:100%}.ezO2md{border:thin solid #dadce0;padding:12px 16px 12px 16px;margin-bottom:10px;font-family:arial,sans-serif}.lIMUZd{font-family:arial,sans-serif}.IkMU6e{border-spacing:0}.SjCsie{width:100%}.EnarA{text-align:center}.NZWO1b{width:162px;height:140px;line-height:140px;overflow:'hidden';text-align:center}.yWs4tf{text-align:center;margin:auto;vertical-align:middle;max-width:162px;max-height:140px}.jB2rPd{padding-top:2px;padding-bottom:8px;}.fYyStc{word-break:break-word}.ynsChf{display:block;white-space:nowrap;overflow:hidden;text-overflow:ellipsis}.Fj3V3b{color:#1967d2;font-size:14px;line-height:20px}.FrIlee{color:#202124;font-size:11px;line-height:16px}.F9iS2e{color:#70757a;font-size:11px;line-height:16px}.WMQ2Le{color:#70757a;font-size:12px;line-height:16px}.x3G5ab{color:#202124;font-size:12px;line-height:16px}.fuLhoc{color:#1967d2;font-size:16px;line-height:20px}.epoveb{font-size:24px;line-height:28px;font-weight:400;color:#202124}.dXDvrc{color:#0d652d;font-size:14px;line-height:20px;word-wrap:break-word}.dloBPe{font-weight:bold}.YVIcad{color:#70757a}.JkVVdd{color:#ea4335}.oXZRFd{color:#ea4335}.MQHtg{color:#fbbc04}.pyMRrb{color:#1e8e3e}.EtTZid{color:#1e8e3e}.M3vVJe{color:#1967d2}.qXLe6d{display:block}.NHQNef{font-style:italic}.Cb8Z7c{white-space:pre}a.ZWRArf{text-decoration:none}a .CVA68e:hover{text-decoration:underline}</style><div class=\"n692Zd\"><div class=\"BnJWBc\"><a class=\"lXLRf\" href=\"/?sa=X&amp;biw=1920&amp;bih=937&amp;output=images&amp;ie=UTF-8&amp;tbm=isch&amp;ved=0ahUKEwj5qeWY77aAAxU4m1YBHWCRA9cQPAgC\"><img alt=\"Google\" class=\"kgJEQe\" src=\"/images/branding/searchlogo/1x/googlelogo_desk_heirloom_color_150x55dp.gif\"/></a></div><div class=\"FbhRzb\"><form action=\"/search\"><input name=\"biw\" type=\"hidden\" value=\"1920\"/><input name=\"bih\" type=\"hidden\" value=\"937\"/><input name=\"ie\" type=\"hidden\" value=\"ISO-8859-1\"/><input name=\"tbm\" type=\"hidden\" value=\"isch\"/><input name=\"oq\" type=\"hidden\"/><input name=\"aqs\" type=\"hidden\"/><table class=\"cvifge\"><tr><td class=\"O4cRJf\"><input class=\"MhzMZd\" name=\"q\" type=\"text\" value=\"varun dhawan\"/></td><td class=\"O1ePr\"><input class=\"xB0fq\" type=\"submit\" value=\"Search\"/></td></tr></table></form></div><div class=\"M7pB2\"><table class=\"euZec\"><tbody><tr><td><a class=\"CsQyDc\" href=\"/search?q=varun+dhawan&amp;biw=1920&amp;bih=937&amp;ie=UTF-8&amp;source=lnms&amp;sa=X&amp;ved=0ahUKEwj5qeWY77aAAxU4m1YBHWCRA9cQ_AUIBCgA\">ALL</a></td><td><a class=\"CsQyDc\" href=\"/search?q=varun+dhawan&amp;biw=1920&amp;bih=937&amp;ie=UTF-8&amp;tbm=nws&amp;source=lnms&amp;sa=X&amp;ved=0ahUKEwj5qeWY77aAAxU4m1YBHWCRA9cQ_AUIBSgB\">NEWS</a></td><td class=\"EY24We\"><span class=\"QIqI7\">IMAGES</span></td><td><a class=\"CsQyDc\" href=\"/search?q=varun+dhawan&amp;biw=1920&amp;bih=937&amp;ie=UTF-8&amp;tbm=vid&amp;source=lnms&amp;sa=X&amp;ved=0ahUKEwj5qeWY77aAAxU4m1YBHWCRA9cQ_AUIBygD\">VIDEOS</a></td></tr></tbody></table></div></div><div class=\"X6ZCif\"><a class=\"TwVfHd\" href=\"/search?biw=1920&amp;bih=937&amp;ie=UTF-8&amp;tbm=isch&amp;q=varun+dhawan&amp;chips=q:varun+dhawan,g_1:wallpaper&amp;sa=X&amp;ved=0ahUKEwj5qeWY77aAAxU4m1YBHWCRA9cQ4lYICygA\">wallpaper</a><a class=\"TwVfHd\" href=\"/search?biw=1920&amp;bih=937&amp;ie=UTF-8&amp;tbm=isch&amp;q=varun+dhawan&amp;chips=q:varun+dhawan,g_1:wedding&amp;sa=X&amp;ved=0ahUKEwj5qeWY77aAAxU4m1YBHWCRA9cQ4lYIDCgB\">wedding</a><a class=\"TwVfHd\" href=\"/search?biw=1920&amp;bih=937&amp;ie=UTF-8&amp;tbm=isch&amp;q=varun+dhawan&amp;chips=q:varun+dhawan,g_1:hairstyle&amp;sa=X&amp;ved=0ahUKEwj5qeWY77aAAxU4m1YBHWCRA9cQ4lYIDSgC\">hairstyle</a><a class=\"TwVfHd\" href=\"/search?biw=1920&amp;bih=937&amp;ie=UTF-8&amp;tbm=isch&amp;q=varun+dhawan&amp;chips=q:varun+dhawan,g_1:style&amp;sa=X&amp;ved=0ahUKEwj5qeWY77aAAxU4m1YBHWCRA9cQ4lYIDigD\">style</a><a class=\"TwVfHd\" href=\"/search?biw=1920&amp;bih=937&amp;ie=UTF-8&amp;tbm=isch&amp;q=varun+dhawan&amp;chips=q:varun+dhawan,g_1:hero&amp;sa=X&amp;ved=0ahUKEwj5qeWY77aAAxU4m1YBHWCRA9cQ4lYIDygE\">hero</a><a class=\"TwVfHd\" href=\"/search?biw=1920&amp;bih=937&amp;ie=UTF-8&amp;tbm=isch&amp;q=varun+dhawan&amp;chips=q:varun+dhawan,g_1:instagram&amp;sa=X&amp;ved=0ahUKEwj5qeWY77aAAxU4m1YBHWCRA9cQ4lYIECgF\">instagram</a><a class=\"TwVfHd\" href=\"/search?biw=1920&amp;bih=937&amp;ie=UTF-8&amp;tbm=isch&amp;q=varun+dhawan&amp;chips=q:varun+dhawan,g_1:main+tera+hero&amp;sa=X&amp;ved=0ahUKEwj5qeWY77aAAxU4m1YBHWCRA9cQ4lYIESgG\">main tera hero</a><a class=\"TwVfHd\" href=\"/search?biw=1920&amp;bih=937&amp;ie=UTF-8&amp;tbm=isch&amp;q=varun+dhawan&amp;chips=q:varun+dhawan,g_1:badrinath&amp;sa=X&amp;ved=0ahUKEwj5qeWY77aAAxU4m1YBHWCRA9cQ4lYIEigH\">badrinath</a><a class=\"TwVfHd\" href=\"/search?biw=1920&amp;bih=937&amp;ie=UTF-8&amp;tbm=isch&amp;q=varun+dhawan&amp;chips=q:varun+dhawan,g_1:dilwale&amp;sa=X&amp;ved=0ahUKEwj5qeWY77aAAxU4m1YBHWCRA9cQ4lYIEygI\">dilwale</a><a class=\"TwVfHd\" href=\"/search?biw=1920&amp;bih=937&amp;ie=UTF-8&amp;tbm=isch&amp;q=varun+dhawan&amp;chips=q:varun+dhawan,g_1:full+hd&amp;sa=X&amp;ved=0ahUKEwj5qeWY77aAAxU4m1YBHWCRA9cQ4lYIFCgJ\">full hd</a></div><div><table class=\"GpQGbf\"><tr><td align=\"center\" class=\"e3goi\"><div class=\"mnTahd\"> <div> <div class=\"lIMUZd\"><div><table class=\"IkMU6e\"><tr><td><a href=\"/url?q=https://en.wikipedia.org/wiki/Varun_Dhawan&amp;sa=U&amp;ved=2ahUKEwj5qeWY77aAAxU4m1YBHWCRA9cQqoUBegQIARAB&amp;usg=AOvVaw2VgcBR0NkqlDTof6w7e2X_\"><div class=\"NZWO1b\"><img alt=\"\" class=\"yWs4tf\" src=\"https://encrypted-tbn0.gstatic.com/images?q=tbn:ANd9GcTQr7g51RRa2sZ-8VISRuot8_3R-80ZVsB2JX_8fIgiAGkv8AizNWU81D5mJA&amp;s\"/></div></a></td></tr><tr><td><a href=\"/url?q=https://en.wikipedia.org/wiki/Varun_Dhawan&amp;sa=U&amp;ved=2ahUKEwj5qeWY77aAAxU4m1YBHWCRA9cQr4kDegQIARAC&amp;usg=AOvVaw0pbhLKFWLVAMmfJ5PdhK7A\"><div class=\"jB2rPd\"> <span class=\"qXLe6d x3G5ab\"> <span class=\"fYyStc\">Varun Dhawan - Wikipedia</span> </span> <span class=\"qXLe6d F9iS2e\"> <span class=\"fYyStc\">en.wikipedia.org</span> </span> </div></a></td></tr></table></div></div> </div> </div></td><td align=\"center\" class=\"e3goi\"><div class=\"mnTahd\"> <div> <div class=\"lIMUZd\"><div><table class=\"IkMU6e\"><tr><td><a href=\"/url?q=https://timesofindia.indiatimes.com/entertainment/hindi/bollywood/news/varun-dhawan-expected-bhediya-to-do-better-at-the-box-office/articleshow/96307297.cms&amp;sa=U&amp;ved=2ahUKEwj5qeWY77aAAxU4m1YBHWCRA9cQqoUBegQIExAB&amp;usg=AOvVaw3jhnrz04ZAnHOHae6ltgwr\"><div class=\"NZWO1b\"><img alt=\"\" class=\"yWs4tf\" src=\"https://encrypted-tbn0.gstatic.com/images?q=tbn:ANd9GcQKDdm_Kav1g1FjNBg3iIaPj-IGJtrvvVlPyhJDDHvHBhjOBSwbfeb-UoA0wg&amp;s\"/></div></a></td></tr><tr><td><a href=\"/url?q=https://timesofindia.indiatimes.com/entertainment/hindi/bollywood/news/varun-dhawan-expected-bhediya-to-do-better-at-the-box-office/articleshow/96307297.cms&amp;sa=U&amp;ved=2ahUKEwj5qeWY77aAAxU4m1YBHWCRA9cQr4kDegQIExAC&amp;usg=AOvVaw0dFZiqX51R3hLq9PUYe0RI\"><div class=\"jB2rPd\"> <span class=\"qXLe6d x3G5ab\"> <span class=\"fYyStc\">Varun Dhawan: Expected...</span> </span> <span class=\"qXLe6d F9iS2e\"> <span class=\"fYyStc\">timesofindia.indiatimes.com...</span> </span> </div></a></td></tr></table></div></div> </div> </div></td><td align=\"center\" class=\"e3goi\"><div class=\"mnTahd\"> <div> <div class=\"lIMUZd\"><div><table class=\"IkMU6e\"><tr><td><a href=\"/url?q=https://www.ndtv.com/entertainment/varun-dhawan-sets-internet-on-fire-with-his-pics-from-serbia-4148855&amp;sa=U&amp;ved=2ahUKEwj5qeWY77aAAxU4m1YBHWCRA9cQqoUBegQIEhAB&amp;usg=AOvVaw22LKLtg1TPp8qUfg0RezEQ\"><div class=\"NZWO1b\"><img alt=\"\" class=\"yWs4tf\" src=\"https://encrypted-tbn0.gstatic.com/images?q=tbn:ANd9GcR_KfiqlDh-fLSHX8u7dZHkWPqsT2otSollDbkedVc5MrXNqevEwFMwG1oj7w&amp;s\"/></div></a></td></tr><tr><td><a href=\"/url?q=https://www.ndtv.com/entertainment/varun-dhawan-sets-internet-on-fire-with-his-pics-from-serbia-4148855&amp;sa=U&amp;ved=2ahUKEwj5qeWY77aAAxU4m1YBHWCRA9cQr4kDegQIEhAC&amp;usg=AOvVaw1MA5kpfQj4zBKWSQxMXrbF\"><div class=\"jB2rPd\"> <span class=\"qXLe6d x3G5ab\"> <span class=\"fYyStc\">Varun Dhawan Is Making...</span> </span> <span class=\"qXLe6d F9iS2e\"> <span class=\"fYyStc\">www.ndtv.com</span> </span> </div></a></td></tr></table></div></div> </div> </div></td><td align=\"center\" class=\"e3goi\"><div class=\"mnTahd\"> <div> <div class=\"lIMUZd\"><div><table class=\"IkMU6e\"><tr><td><a href=\"/url?q=https://www.masala.com/news/varun-dhawan-bollywood&amp;sa=U&amp;ved=2ahUKEwj5qeWY77aAAxU4m1YBHWCRA9cQqoUBegQIEBAB&amp;usg=AOvVaw3JCXIWCCa4ULO-YRXrHWL2\"><div class=\"NZWO1b\"><img alt=\"\" class=\"yWs4tf\" src=\"https://encrypted-tbn0.gstatic.com/images?q=tbn:ANd9GcRGlSTPIUjEKAUx6hkZRfaLW9ZaFXoNNknosS0wTl44s-f5smAByaSvJ1QtGA&amp;s\"/></div></a></td></tr><tr><td><a href=\"/url?q=https://www.masala.com/news/varun-dhawan-bollywood&amp;sa=U&amp;ved=2ahUKEwj5qeWY77aAAxU4m1YBHWCRA9cQr4kDegQIEBAC&amp;usg=AOvVaw06BVDVSEQsP--1fU_29ETj\"><div class=\"jB2rPd\"> <span class=\"qXLe6d x3G5ab\"> <span class=\"fYyStc\">Varun talks Bollywood...</span> </span> <span class=\"qXLe6d F9iS2e\"> <span class=\"fYyStc\">www.masala.com</span> </span> </div></a></td></tr></table></div></div> </div> </div></td></tr><tr><td align=\"center\" class=\"e3goi\"><div class=\"mnTahd\"> <div> <div class=\"lIMUZd\"><div><table class=\"IkMU6e\"><tr><td><a href=\"/url?q=https://www.instagram.com/varundvn/&amp;sa=U&amp;ved=2ahUKEwj5qeWY77aAAxU4m1YBHWCRA9cQqoUBegQIDBAB&amp;usg=AOvVaw0_FhfcJ1sOSImXo_DYLQw-\"><div class=\"NZWO1b\"><img alt=\"\" class=\"yWs4tf\" src=\"https://encrypted-tbn0.gstatic.com/images?q=tbn:ANd9GcTjPeQyDs7krKBEpYwR9q-l3Yomb_ZGZupFRer0g_o1HJF6vtcxvIkNTukf4g&amp;s\"/></div></a></td></tr><tr><td><a href=\"/url?q=https://www.instagram.com/varundvn/&amp;sa=U&amp;ved=2ahUKEwj5qeWY77aAAxU4m1YBHWCRA9cQr4kDegQIDBAC&amp;usg=AOvVaw3gVtwzsxAMUZQZ9VEWLz-r\"><div class=\"jB2rPd\"> <span class=\"qXLe6d x3G5ab\"> <span class=\"fYyStc\">VarunDhawan (@varundvn) •...</span> </span> <span class=\"qXLe6d F9iS2e\"> <span class=\"fYyStc\">www.instagram.com</span> </span> </div></a></td></tr></table></div></div> </div> </div></td><td align=\"center\" class=\"e3goi\"><div class=\"mnTahd\"> <div> <div class=\"lIMUZd\"><div><table class=\"IkMU6e\"><tr><td><a href=\"/url?q=https://www.bollywoodhungama.com/news/bollywood/israel-ambassador-reacts-auschwitz-holocaust-reference-varun-dhawan-janhvi-kapoor-starrer-baawal-trivialisation-holocaust-disturb/&amp;sa=U&amp;ved=2ahUKEwj5qeWY77aAAxU4m1YBHWCRA9cQqoUBegQIERAB&amp;usg=AOvVaw0GjsopicE_QITkpPNHvyP_\"><div class=\"NZWO1b\"><img alt=\"\" class=\"yWs4tf\" src=\"https://encrypted-tbn0.gstatic.com/images?q=tbn:ANd9GcSY7MtRz2MQ2FWXrVbbSZ_Wmygm3T2gsfn34YcMI5MOB-6JeEioQNRLrObQew&amp;s\"/></div></a></td></tr><tr><td><a href=\"/url?q=https://www.bollywoodhungama.com/news/bollywood/israel-ambassador-reacts-auschwitz-holocaust-reference-varun-dhawan-janhvi-kapoor-starrer-baawal-trivialisation-holocaust-disturb/&amp;sa=U&amp;ved=2ahUKEwj5qeWY77aAAxU4m1YBHWCRA9cQr4kDegQIERAC&amp;usg=AOvVaw2WHE8lXGKiLs_2YVKuucBF\"><div class=\"jB2rPd\"> <span class=\"qXLe6d x3G5ab\"> <span class=\"fYyStc\">Israel ambassador reacts to...</span> </span> <span class=\"qXLe6d F9iS2e\"> <span class=\"fYyStc\">www.bollywoodhungama.com</span> </span> </div></a></td></tr></table></div></div> </div> </div></td><td align=\"center\" class=\"e3goi\"><div class=\"mnTahd\"> <div> <div class=\"lIMUZd\"><div><table class=\"IkMU6e\"><tr><td><a href=\"/url?q=https://wallpapers.com/varun-dhawan&amp;sa=U&amp;ved=2ahUKEwj5qeWY77aAAxU4m1YBHWCRA9cQqoUBegQIDxAB&amp;usg=AOvVaw0gnPbrIg9u2zvJ-MxjmRCJ\"><div class=\"NZWO1b\"><img alt=\"\" class=\"yWs4tf\" src=\"https://encrypted-tbn0.gstatic.com/images?q=tbn:ANd9GcSdIIXPzT1IIy6Mryj9QuVHc6FGgdLtXBdGd8ncO-8UNh9hCtGv6MtVhVZgg_k&amp;s\"/></div></a></td></tr><tr><td><a href=\"/url?q=https://wallpapers.com/varun-dhawan&amp;sa=U&amp;ved=2ahUKEwj5qeWY77aAAxU4m1YBHWCRA9cQr4kDegQIDxAC&amp;usg=AOvVaw3kkUoKy7YP0unrutzQn5M4\"><div class=\"jB2rPd\"> <span class=\"qXLe6d x3G5ab\"> <span class=\"fYyStc\">100+] Varun Dhawan...</span> </span> <span class=\"qXLe6d F9iS2e\"> <span class=\"fYyStc\">wallpapers.com</span> </span> </div></a></td></tr></table></div></div> </div> </div></td><td align=\"center\" class=\"e3goi\"><div class=\"mnTahd\"> <div> <div class=\"lIMUZd\"><div><table class=\"IkMU6e\"><tr><td><a href=\"/url?q=https://m.timesofindia.com/entertainment/hindi/bollywood/news/varun-dhawan-talks-about-the-success-of-shah-rukh-khans-pathaan-spills-the-beans-on-vd18-with-atlee/articleshow/102125762.cms&amp;sa=U&amp;ved=2ahUKEwj5qeWY77aAAxU4m1YBHWCRA9cQqoUBegQIDhAB&amp;usg=AOvVaw25kemHcdLlw3mBQQubRVv3\"><div class=\"NZWO1b\"><img alt=\"\" class=\"yWs4tf\" src=\"https://encrypted-tbn0.gstatic.com/images?q=tbn:ANd9GcRzGv_kGNtJ2ECGYbTdBiRUv15ZdHg_S0ANtUo34yvGeJgTByPSk3OWKJOekXw&amp;s\"/></div></a></td></tr><tr><td><a href=\"/url?q=https://m.timesofindia.com/entertainment/hindi/bollywood/news/varun-dhawan-talks-about-the-success-of-shah-rukh-khans-pathaan-spills-the-beans-on-vd18-with-atlee/articleshow/102125762.cms&amp;sa=U&amp;ved=2ahUKEwj5qeWY77aAAxU4m1YBHWCRA9cQr4kDegQIDhAC&amp;usg=AOvVaw2RzE1F_LwcdFBr9MMEBvvp\"><div class=\"jB2rPd\"> <span class=\"qXLe6d x3G5ab\"> <span class=\"fYyStc\">Varun Dhawan talks about...</span> </span> <span class=\"qXLe6d F9iS2e\"> <span class=\"fYyStc\">m.timesofindia.com</span> </span> </div></a></td></tr></table></div></div> </div> </div></td></tr><tr><td align=\"center\" class=\"e3goi\"><div class=\"mnTahd\"> <div> <div class=\"lIMUZd\"><div><table class=\"IkMU6e\"><tr><td><a href=\"/url?q=https://www.thestatesman.com/entertainment/varun-dhawan-welcomed-new-member-family-nephew-1503068285.html&amp;sa=U&amp;ved=2ahUKEwj5qeWY77aAAxU4m1YBHWCRA9cQqoUBegQIDRAB&amp;usg=AOvVaw1li_APzYXvZaF69--5x0pe\"><div class=\"NZWO1b\"><img alt=\"\" class=\"yWs4tf\" src=\"https://encrypted-tbn0.gstatic.com/images?q=tbn:ANd9GcQIbVc1XfROhNkYKaG9bDk_R32ymweY6w9Xi4sloqgQStJDQqhVC79CSkkorg&amp;s\"/></div></a></td></tr><tr><td><a href=\"/url?q=https://www.thestatesman.com/entertainment/varun-dhawan-welcomed-new-member-family-nephew-1503068285.html&amp;sa=U&amp;ved=2ahUKEwj5qeWY77aAAxU4m1YBHWCRA9cQr4kDegQIDRAC&amp;usg=AOvVaw1s39aXrKnH3o2tjGPlg7xJ\"><div class=\"jB2rPd\"> <span class=\"qXLe6d x3G5ab\"> <span class=\"fYyStc\">Varun Dhawan welcomes a new...</span> </span> <span class=\"qXLe6d F9iS2e\"> <span class=\"fYyStc\">www.thestatesman.com</span> </span> </div></a></td></tr></table></div></div> </div> </div></td><td align=\"center\" class=\"e3goi\"><div class=\"mnTahd\"> <div> <div class=\"lIMUZd\"><div><table class=\"IkMU6e\"><tr><td><a href=\"/url?q=https://m.economictimes.com/news/new-updates/happy-birthday-varun-dhawan-see-best-performances-of-the-actor/articleshow/99709449.cms&amp;sa=U&amp;ved=2ahUKEwj5qeWY77aAAxU4m1YBHWCRA9cQqoUBegQICxAB&amp;usg=AOvVaw37MxDrNePfG-uhuNzYgBh4\"><div class=\"NZWO1b\"><img alt=\"\" class=\"yWs4tf\" src=\"https://encrypted-tbn0.gstatic.com/images?q=tbn:ANd9GcSb0_PDO4MGYR3rm2_3GvBlikyU1yrQVPTa_4Ahr8mxVX_xQDyqOK0GFo9gEg&amp;s\"/></div></a></td></tr><tr><td><a href=\"/url?q=https://m.economictimes.com/news/new-updates/happy-birthday-varun-dhawan-see-best-performances-of-the-actor/articleshow/99709449.cms&amp;sa=U&amp;ved=2ahUKEwj5qeWY77aAAxU4m1YBHWCRA9cQr4kDegQICxAC&amp;usg=AOvVaw1OHlkiMzOPTMPcazEPKJq2\"><div class=\"jB2rPd\"> <span class=\"qXLe6d x3G5ab\"> <span class=\"fYyStc\">Varun Dhawan Birthday:...</span> </span> <span class=\"qXLe6d F9iS2e\"> <span class=\"fYyStc\">m.economictimes.com</span> </span> </div></a></td></tr></table></div></div> </div> </div></td><td align=\"center\" class=\"e3goi\"><div class=\"mnTahd\"> <div> <div class=\"lIMUZd\"><div><table class=\"IkMU6e\"><tr><td><a href=\"/url?q=https://www.vogue.in/whats-new/content/varun-dhawan-natasha-dalal-wedding-date-venue-bollywood-guests&amp;sa=U&amp;ved=2ahUKEwj5qeWY77aAAxU4m1YBHWCRA9cQqoUBegQICRAB&amp;usg=AOvVaw0sSOz9d0fFzzO9pZ3-Q_Ri\"><div class=\"NZWO1b\"><img alt=\"\" class=\"yWs4tf\" src=\"https://encrypted-tbn0.gstatic.com/images?q=tbn:ANd9GcQXfVzFQ0GniJ1ElOgyc_iyXrvb4IhyaWOhXfuombsBuNrshe0mvEZ3Tz_W7aU&amp;s\"/></div></a></td></tr><tr><td><a href=\"/url?q=https://www.vogue.in/whats-new/content/varun-dhawan-natasha-dalal-wedding-date-venue-bollywood-guests&amp;sa=U&amp;ved=2ahUKEwj5qeWY77aAAxU4m1YBHWCRA9cQr4kDegQICRAC&amp;usg=AOvVaw1StpTwmfl0bRouDvsZJy5J\"><div class=\"jB2rPd\"> <span class=\"qXLe6d x3G5ab\"> <span class=\"fYyStc\">Varun Dhawan and Natasha...</span> </span> <span class=\"qXLe6d F9iS2e\"> <span class=\"fYyStc\">www.vogue.in</span> </span> </div></a></td></tr></table></div></div> </div> </div></td><td align=\"center\" class=\"e3goi\"><div class=\"mnTahd\"> <div> <div class=\"lIMUZd\"><div><table class=\"IkMU6e\"><tr><td><a href=\"/url?q=https://zeenews.india.com/bollywood/bollywood-news-varun-dhawan-elated-with-good-response-to-bawaal-calls-aju-bhaiya-his-best-role-to-date-2641262.html&amp;sa=U&amp;ved=2ahUKEwj5qeWY77aAAxU4m1YBHWCRA9cQqoUBegQIChAB&amp;usg=AOvVaw0FizzEb5koj0u7HeGOnOii\"><div class=\"NZWO1b\"><img alt=\"\" class=\"yWs4tf\" src=\"https://encrypted-tbn0.gstatic.com/images?q=tbn:ANd9GcSPJFk8j0DzmJmN7gM5FupCtxdWg61t8kOqU9tyHddYPjngFyZ5ZVjW8LZ6Kg4&amp;s\"/></div></a></td></tr><tr><td><a href=\"/url?q=https://zeenews.india.com/bollywood/bollywood-news-varun-dhawan-elated-with-good-response-to-bawaal-calls-aju-bhaiya-his-best-role-to-date-2641262.html&amp;sa=U&amp;ved=2ahUKEwj5qeWY77aAAxU4m1YBHWCRA9cQr4kDegQIChAC&amp;usg=AOvVaw1fz19KAbYdw1dlfyIW7xFf\"><div class=\"jB2rPd\"> <span class=\"qXLe6d x3G5ab\"> <span class=\"fYyStc\">Bollywood News: Varun...</span> </span> <span class=\"qXLe6d F9iS2e\"> <span class=\"fYyStc\">zeenews.india.com</span> </span> </div></a></td></tr></table></div></div> </div> </div></td></tr><tr><td align=\"center\" class=\"e3goi\"><div class=\"mnTahd\"> <div> <div class=\"lIMUZd\"><div><table class=\"IkMU6e\"><tr><td><a href=\"/url?q=https://www.filmfare.com/features/5-varun-dhawan-films-that-show-his-versatility-as-an-actor-46059.html&amp;sa=U&amp;ved=2ahUKEwj5qeWY77aAAxU4m1YBHWCRA9cQqoUBegQIBBAB&amp;usg=AOvVaw3Bfswk6KTJsUPcUNeRSI4H\"><div class=\"NZWO1b\"><img alt=\"\" class=\"yWs4tf\" src=\"https://encrypted-tbn0.gstatic.com/images?q=tbn:ANd9GcQeCVExHITwqDMm9_j91sZ3ELjqmtWRNJHRpvkzSyz-PIhNylg56q43oA9bAKY&amp;s\"/></div></a></td></tr><tr><td><a href=\"/url?q=https://www.filmfare.com/features/5-varun-dhawan-films-that-show-his-versatility-as-an-actor-46059.html&amp;sa=U&amp;ved=2ahUKEwj5qeWY77aAAxU4m1YBHWCRA9cQr4kDegQIBBAC&amp;usg=AOvVaw2VZys_QOh21VFRsQSfZ2wc\"><div class=\"jB2rPd\"> <span class=\"qXLe6d x3G5ab\"> <span class=\"fYyStc\">5 Varun Dhawan Films That...</span> </span> <span class=\"qXLe6d F9iS2e\"> <span class=\"fYyStc\">www.filmfare.com</span> </span> </div></a></td></tr></table></div></div> </div> </div></td><td align=\"center\" class=\"e3goi\"><div class=\"mnTahd\"> <div> <div class=\"lIMUZd\"><div><table class=\"IkMU6e\"><tr><td><a href=\"/url?q=https://www.facebook.com/VarunDhawan.co/&amp;sa=U&amp;ved=2ahUKEwj5qeWY77aAAxU4m1YBHWCRA9cQqoUBegQIAhAB&amp;usg=AOvVaw2jVaOEWhXg0OHiwA0hSVg7\"><div class=\"NZWO1b\"><img alt=\"\" class=\"yWs4tf\" src=\"https://encrypted-tbn0.gstatic.com/images?q=tbn:ANd9GcSL6EYdlZYavfWwNByrPm9Eeldz7ZowC7fcQnNVOzdaS3GevuNiDEVEOtUSq7Q&amp;s\"/></div></a></td></tr><tr><td><a href=\"/url?q=https://www.facebook.com/VarunDhawan.co/&amp;sa=U&amp;ved=2ahUKEwj5qeWY77aAAxU4m1YBHWCRA9cQr4kDegQIAhAC&amp;usg=AOvVaw3Af4meMdMs5xprPvngy11t\"><div class=\"jB2rPd\"> <span class=\"qXLe6d x3G5ab\"> <span class=\"fYyStc\">Varun Dhawan</span> </span> <span class=\"qXLe6d F9iS2e\"> <span class=\"fYyStc\">www.facebook.com</span> </span> </div></a></td></tr></table></div></div> </div> </div></td><td align=\"center\" class=\"e3goi\"><div class=\"mnTahd\"> <div> <div class=\"lIMUZd\"><div><table class=\"IkMU6e\"><tr><td><a href=\"/url?q=https://www.news18.com/news/movies/varun-dhawan-says-bollywood-has-stopped-making-big-scale-masala-entertainers-5490019.html&amp;sa=U&amp;ved=2ahUKEwj5qeWY77aAAxU4m1YBHWCRA9cQqoUBegQIAxAB&amp;usg=AOvVaw3G7kglCcPLpHYeOTW8908w\"><div class=\"NZWO1b\"><img alt=\"\" class=\"yWs4tf\" src=\"https://encrypted-tbn0.gstatic.com/images?q=tbn:ANd9GcQ0fSs7jTHorSU_cVA2emczHQ8fNJ37z9U4ht5Wy7EoRpWs0ctpDNtoheXvnQ&amp;s\"/></div></a></td></tr><tr><td><a href=\"/url?q=https://www.news18.com/news/movies/varun-dhawan-says-bollywood-has-stopped-making-big-scale-masala-entertainers-5490019.html&amp;sa=U&amp;ved=2ahUKEwj5qeWY77aAAxU4m1YBHWCRA9cQr4kDegQIAxAC&amp;usg=AOvVaw1KdF4Q9OXUwuE6K5vUEJ7i\"><div class=\"jB2rPd\"> <span class=\"qXLe6d x3G5ab\"> <span class=\"fYyStc\">Varun Dhawan Says Bollywood...</span> </span> <span class=\"qXLe6d F9iS2e\"> <span class=\"fYyStc\">www.news18.com</span> </span> </div></a></td></tr></table></div></div> </div> </div></td><td align=\"center\" class=\"e3goi\"><div class=\"mnTahd\"> <div> <div class=\"lIMUZd\"><div><table class=\"IkMU6e\"><tr><td><a href=\"/url?q=https://en.wikipedia.org/wiki/Varun_Dhawan&amp;sa=U&amp;ved=2ahUKEwj5qeWY77aAAxU4m1YBHWCRA9cQqoUBegQICBAB&amp;usg=AOvVaw0pgjVWfFIJur-JMy2f_R09\"><div class=\"NZWO1b\"><img alt=\"\" class=\"yWs4tf\" src=\"https://encrypted-tbn0.gstatic.com/images?q=tbn:ANd9GcQiONU18MLbOJQaqVZceTx7vxWMnAgV7oS16reLyDoKLTD7UHXXqm_nBnIMcvU&amp;s\"/></div></a></td></tr><tr><td><a href=\"/url?q=https://en.wikipedia.org/wiki/Varun_Dhawan&amp;sa=U&amp;ved=2ahUKEwj5qeWY77aAAxU4m1YBHWCRA9cQr4kDegQICBAC&amp;usg=AOvVaw0-3T8PgE6WvzaEo8KL4398\"><div class=\"jB2rPd\"> <span class=\"qXLe6d x3G5ab\"> <span class=\"fYyStc\">Varun Dhawan - Wikipedia</span> </span> <span class=\"qXLe6d F9iS2e\"> <span class=\"fYyStc\">en.wikipedia.org</span> </span> </div></a></td></tr></table></div></div> </div> </div></td></tr><tr><td align=\"center\" class=\"e3goi\"><div class=\"mnTahd\"> <div> <div class=\"lIMUZd\"><div><table class=\"IkMU6e\"><tr><td><a href=\"/url?q=https://www.ndtv.com/entertainment/what-varun-dhawan-said-about-backlash-over-bawaal-dialogues-on-hitler-and-holocaust-4240967&amp;sa=U&amp;ved=2ahUKEwj5qeWY77aAAxU4m1YBHWCRA9cQqoUBegQIBhAB&amp;usg=AOvVaw1EBEq08j7syKpOiuMG87Ue\"><div class=\"NZWO1b\"><img alt=\"\" class=\"yWs4tf\" src=\"https://encrypted-tbn0.gstatic.com/images?q=tbn:ANd9GcT5LvSsmLbW7JAJsdlbaCHOUe4DL4Btevf6-ENLEx5r9hByyNxUYQoPXxxWdg&amp;s\"/></div></a></td></tr><tr><td><a href=\"/url?q=https://www.ndtv.com/entertainment/what-varun-dhawan-said-about-backlash-over-bawaal-dialogues-on-hitler-and-holocaust-4240967&amp;sa=U&amp;ved=2ahUKEwj5qeWY77aAAxU4m1YBHWCRA9cQr4kDegQIBhAC&amp;usg=AOvVaw1700kzSfrpPtGaJ2aBoXms\"><div class=\"jB2rPd\"> <span class=\"qXLe6d x3G5ab\"> <span class=\"fYyStc\">What Varun Dhawan Said...</span> </span> <span class=\"qXLe6d F9iS2e\"> <span class=\"fYyStc\">www.ndtv.com</span> </span> </div></a></td></tr></table></div></div> </div> </div></td><td align=\"center\" class=\"e3goi\"><div class=\"mnTahd\"> <div> <div class=\"lIMUZd\"><div><table class=\"IkMU6e\"><tr><td><a href=\"/url?q=https://indianexpress.com/article/entertainment/bollywood/varun-dhawan-defends-bawaal-bhagavad-gita-sex-scene-christopher-nolan-oppenheimer-south-films-8860593/&amp;sa=U&amp;ved=2ahUKEwj5qeWY77aAAxU4m1YBHWCRA9cQqoUBegQIBxAB&amp;usg=AOvVaw3ZbF30GTXTFYHvDJkQ2YsI\"><div class=\"NZWO1b\"><img alt=\"\" class=\"yWs4tf\" src=\"https://encrypted-tbn0.gstatic.com/images?q=tbn:ANd9GcQ32fIyobZ0ND2JID0P2V2DER7htcfgjiuuj9xSs8e80N9rRLGBbPY2qUQJmw&amp;s\"/></div></a></td></tr><tr><td><a href=\"/url?q=https://indianexpress.com/article/entertainment/bollywood/varun-dhawan-defends-bawaal-bhagavad-gita-sex-scene-christopher-nolan-oppenheimer-south-films-8860593/&amp;sa=U&amp;ved=2ahUKEwj5qeWY77aAAxU4m1YBHWCRA9cQr4kDegQIBxAC&amp;usg=AOvVaw1NQgEv_s17zNhJ1SEqM-qs\"><div class=\"jB2rPd\"> <span class=\"qXLe6d x3G5ab\"> <span class=\"fYyStc\">Varun Dhawan defends...</span> </span> <span class=\"qXLe6d F9iS2e\"> <span class=\"fYyStc\">indianexpress.com</span> </span> </div></a></td></tr></table></div></div> </div> </div></td><td align=\"center\" class=\"e3goi\"><div class=\"mnTahd\"> <div> <div class=\"lIMUZd\"><div><table class=\"IkMU6e\"><tr><td><a href=\"/url?q=https://www.weddingsutra.com/celebrity-weddings/celeb-weddings/natasha-dalal-and-varun-dhawan/&amp;sa=U&amp;ved=2ahUKEwj5qeWY77aAAxU4m1YBHWCRA9cQqoUBegQIBRAB&amp;usg=AOvVaw2Zuz2hP6qzGcyoCgHmFIJ5\"><div class=\"NZWO1b\"><img alt=\"\" class=\"yWs4tf\" src=\"https://encrypted-tbn0.gstatic.com/images?q=tbn:ANd9GcQOrK0iXhZwYSanS22us5VAUsRFB-wiC9-0iDIhlay7hnw2JenxuM9N4hfpRA&amp;s\"/></div></a></td></tr><tr><td><a href=\"/url?q=https://www.weddingsutra.com/celebrity-weddings/celeb-weddings/natasha-dalal-and-varun-dhawan/&amp;sa=U&amp;ved=2ahUKEwj5qeWY77aAAxU4m1YBHWCRA9cQr4kDegQIBRAC&amp;usg=AOvVaw3L62wBHCIp9dwWnNSCyXuY\"><div class=\"jB2rPd\"> <span class=\"qXLe6d x3G5ab\"> <span class=\"fYyStc\">Natasha Dalal and Varun...</span> </span> <span class=\"qXLe6d F9iS2e\"> <span class=\"fYyStc\">www.weddingsutra.com</span> </span> </div></a></td></tr></table></div></div> </div> </div></td><td align=\"center\" class=\"e3goi\"><div class=\"mnTahd\"> <div> <div class=\"lIMUZd\"><div><table class=\"IkMU6e\"><tr><td><a href=\"/url?q=https://www.zee5.com/articles/guess-who-cuddles-with-varun-dhawan-its-not-natasha&amp;sa=U&amp;ved=2ahUKEwj5qeWY77aAAxU4m1YBHWCRA9cQqoUBegQIABAB&amp;usg=AOvVaw3QEthvOn1e2vRaIDG96R-V\"><div class=\"NZWO1b\"><img alt=\"\" class=\"yWs4tf\" src=\"https://encrypted-tbn0.gstatic.com/images?q=tbn:ANd9GcQseUVOp4Q73LOi3dnHejONEg8Y-33hLqBEKyDuNNtu2SHBs1JqhVWNZ_YFaQ&amp;s\"/></div></a></td></tr><tr><td><a href=\"/url?q=https://www.zee5.com/articles/guess-who-cuddles-with-varun-dhawan-its-not-natasha&amp;sa=U&amp;ved=2ahUKEwj5qeWY77aAAxU4m1YBHWCRA9cQr4kDegQIABAC&amp;usg=AOvVaw1HIAfiDr77ybLasrm0TeWM\"><div class=\"jB2rPd\"> <span class=\"qXLe6d x3G5ab\"> <span class=\"fYyStc\">Guess who cuddles with...</span> </span> <span class=\"qXLe6d F9iS2e\"> <span class=\"fYyStc\">www.zee5.com</span> </span> </div></a></td></tr></table></div></div> </div> </div></td></tr></table></div><table class=\"uZgmoc\"><tbody><td><a class=\"frGj1b\" href=\"/search?q=varun+dhawan&amp;biw=1920&amp;bih=937&amp;ie=UTF-8&amp;tbm=isch&amp;ei=HpLGZPmiHLi22roP4KKOuA0&amp;start=20&amp;sa=N\">Next &gt;</a></td></tbody></table><br/><div class=\"TuS8Ad\" data-ved=\"0ahUKEwj5qeWY77aAAxU4m1YBHWCRA9cQpyoIUg\"><style>.VYM29{font-weight:bold}</style><div align=\"center\" class=\"HddGcc\"><span class=\"VYM29\">Pune, Maharashtra</span><span> - </span><span>From your IP address</span><span> - </span><a href=\"/url?q=https://support.google.com/websearch%3Fp%3Dws_settings_location%26hl%3Den-IN&amp;sa=U&amp;ved=0ahUKEwj5qeWY77aAAxU4m1YBHWCRA9cQty4IUw&amp;usg=AOvVaw3iqqAUeXmTVmIfVhZ11pk3\">Learn more</a></div><div align=\"center\"><a class=\"rEM8G\" href=\"/url?q=https://accounts.google.com/ServiceLogin%3Fcontinue%3Dhttps://www.google.com/search%253Fq%253Dvarun%252Bdhawan%2526sxsrf%253DAJOqlzUuff1RXi2mm8I_OqOwT9VjfIDL7w:1676996143273%2526source%253Dlnms%2526tbm%253Disch%2526sa%253DX%2526ved%253D2ahUKEwiq-qK7gaf9AhXUgVYBHYReAfYQ_AUoA3oECAEQBQ%2526biw%253D1920%2526bih%253D937%2526dpr%253D1%26hl%3Den&amp;sa=U&amp;ved=0ahUKEwj5qeWY77aAAxU4m1YBHWCRA9cQxs8CCFQ&amp;usg=AOvVaw1u7qF2h_x0odQs66B2eaU4\">Sign in</a></div><div><table class=\"bookcf\"><tbody class=\"InWNIe\"><tr><td><a class=\"rEM8G\" href=\"https://www.google.com/preferences?hl=en&amp;sa=X&amp;ved=0ahUKEwj5qeWY77aAAxU4m1YBHWCRA9cQv5YECFU\">Settings</a></td><td><a class=\"rEM8G\" href=\"https://www.google.com/intl/en_in/policies/privacy/\">Privacy</a></td><td><a class=\"rEM8G\" href=\"https://www.google.com/intl/en_in/policies/terms/\">Terms</a></td></tr></tbody></table></div></div><div> </div></body></html>"
      ]
     },
     "execution_count": 24,
     "metadata": {},
     "output_type": "execute_result"
    }
   ],
   "source": [
    "soup"
   ]
  },
  {
   "cell_type": "code",
   "execution_count": 25,
   "id": "abfc2ed4",
   "metadata": {},
   "outputs": [],
   "source": [
    "image_tags=soup.find_all(\"img\")"
   ]
  },
  {
   "cell_type": "code",
   "execution_count": 26,
   "id": "80a4dca4",
   "metadata": {},
   "outputs": [],
   "source": [
    "del image_tags[0]"
   ]
  },
  {
   "cell_type": "code",
   "execution_count": 27,
   "id": "13d79212",
   "metadata": {},
   "outputs": [
    {
     "data": {
      "text/plain": [
       "[<img alt=\"\" class=\"yWs4tf\" src=\"https://encrypted-tbn0.gstatic.com/images?q=tbn:ANd9GcTQr7g51RRa2sZ-8VISRuot8_3R-80ZVsB2JX_8fIgiAGkv8AizNWU81D5mJA&amp;s\"/>,\n",
       " <img alt=\"\" class=\"yWs4tf\" src=\"https://encrypted-tbn0.gstatic.com/images?q=tbn:ANd9GcQKDdm_Kav1g1FjNBg3iIaPj-IGJtrvvVlPyhJDDHvHBhjOBSwbfeb-UoA0wg&amp;s\"/>,\n",
       " <img alt=\"\" class=\"yWs4tf\" src=\"https://encrypted-tbn0.gstatic.com/images?q=tbn:ANd9GcR_KfiqlDh-fLSHX8u7dZHkWPqsT2otSollDbkedVc5MrXNqevEwFMwG1oj7w&amp;s\"/>,\n",
       " <img alt=\"\" class=\"yWs4tf\" src=\"https://encrypted-tbn0.gstatic.com/images?q=tbn:ANd9GcRGlSTPIUjEKAUx6hkZRfaLW9ZaFXoNNknosS0wTl44s-f5smAByaSvJ1QtGA&amp;s\"/>,\n",
       " <img alt=\"\" class=\"yWs4tf\" src=\"https://encrypted-tbn0.gstatic.com/images?q=tbn:ANd9GcTjPeQyDs7krKBEpYwR9q-l3Yomb_ZGZupFRer0g_o1HJF6vtcxvIkNTukf4g&amp;s\"/>,\n",
       " <img alt=\"\" class=\"yWs4tf\" src=\"https://encrypted-tbn0.gstatic.com/images?q=tbn:ANd9GcSY7MtRz2MQ2FWXrVbbSZ_Wmygm3T2gsfn34YcMI5MOB-6JeEioQNRLrObQew&amp;s\"/>,\n",
       " <img alt=\"\" class=\"yWs4tf\" src=\"https://encrypted-tbn0.gstatic.com/images?q=tbn:ANd9GcSdIIXPzT1IIy6Mryj9QuVHc6FGgdLtXBdGd8ncO-8UNh9hCtGv6MtVhVZgg_k&amp;s\"/>,\n",
       " <img alt=\"\" class=\"yWs4tf\" src=\"https://encrypted-tbn0.gstatic.com/images?q=tbn:ANd9GcRzGv_kGNtJ2ECGYbTdBiRUv15ZdHg_S0ANtUo34yvGeJgTByPSk3OWKJOekXw&amp;s\"/>,\n",
       " <img alt=\"\" class=\"yWs4tf\" src=\"https://encrypted-tbn0.gstatic.com/images?q=tbn:ANd9GcQIbVc1XfROhNkYKaG9bDk_R32ymweY6w9Xi4sloqgQStJDQqhVC79CSkkorg&amp;s\"/>,\n",
       " <img alt=\"\" class=\"yWs4tf\" src=\"https://encrypted-tbn0.gstatic.com/images?q=tbn:ANd9GcSb0_PDO4MGYR3rm2_3GvBlikyU1yrQVPTa_4Ahr8mxVX_xQDyqOK0GFo9gEg&amp;s\"/>,\n",
       " <img alt=\"\" class=\"yWs4tf\" src=\"https://encrypted-tbn0.gstatic.com/images?q=tbn:ANd9GcQXfVzFQ0GniJ1ElOgyc_iyXrvb4IhyaWOhXfuombsBuNrshe0mvEZ3Tz_W7aU&amp;s\"/>,\n",
       " <img alt=\"\" class=\"yWs4tf\" src=\"https://encrypted-tbn0.gstatic.com/images?q=tbn:ANd9GcSPJFk8j0DzmJmN7gM5FupCtxdWg61t8kOqU9tyHddYPjngFyZ5ZVjW8LZ6Kg4&amp;s\"/>,\n",
       " <img alt=\"\" class=\"yWs4tf\" src=\"https://encrypted-tbn0.gstatic.com/images?q=tbn:ANd9GcQeCVExHITwqDMm9_j91sZ3ELjqmtWRNJHRpvkzSyz-PIhNylg56q43oA9bAKY&amp;s\"/>,\n",
       " <img alt=\"\" class=\"yWs4tf\" src=\"https://encrypted-tbn0.gstatic.com/images?q=tbn:ANd9GcSL6EYdlZYavfWwNByrPm9Eeldz7ZowC7fcQnNVOzdaS3GevuNiDEVEOtUSq7Q&amp;s\"/>,\n",
       " <img alt=\"\" class=\"yWs4tf\" src=\"https://encrypted-tbn0.gstatic.com/images?q=tbn:ANd9GcQ0fSs7jTHorSU_cVA2emczHQ8fNJ37z9U4ht5Wy7EoRpWs0ctpDNtoheXvnQ&amp;s\"/>,\n",
       " <img alt=\"\" class=\"yWs4tf\" src=\"https://encrypted-tbn0.gstatic.com/images?q=tbn:ANd9GcQiONU18MLbOJQaqVZceTx7vxWMnAgV7oS16reLyDoKLTD7UHXXqm_nBnIMcvU&amp;s\"/>,\n",
       " <img alt=\"\" class=\"yWs4tf\" src=\"https://encrypted-tbn0.gstatic.com/images?q=tbn:ANd9GcT5LvSsmLbW7JAJsdlbaCHOUe4DL4Btevf6-ENLEx5r9hByyNxUYQoPXxxWdg&amp;s\"/>,\n",
       " <img alt=\"\" class=\"yWs4tf\" src=\"https://encrypted-tbn0.gstatic.com/images?q=tbn:ANd9GcQ32fIyobZ0ND2JID0P2V2DER7htcfgjiuuj9xSs8e80N9rRLGBbPY2qUQJmw&amp;s\"/>,\n",
       " <img alt=\"\" class=\"yWs4tf\" src=\"https://encrypted-tbn0.gstatic.com/images?q=tbn:ANd9GcQOrK0iXhZwYSanS22us5VAUsRFB-wiC9-0iDIhlay7hnw2JenxuM9N4hfpRA&amp;s\"/>,\n",
       " <img alt=\"\" class=\"yWs4tf\" src=\"https://encrypted-tbn0.gstatic.com/images?q=tbn:ANd9GcQseUVOp4Q73LOi3dnHejONEg8Y-33hLqBEKyDuNNtu2SHBs1JqhVWNZ_YFaQ&amp;s\"/>]"
      ]
     },
     "execution_count": 27,
     "metadata": {},
     "output_type": "execute_result"
    }
   ],
   "source": [
    "image_tags"
   ]
  },
  {
   "cell_type": "code",
   "execution_count": 28,
   "id": "0299f2ff",
   "metadata": {},
   "outputs": [
    {
     "data": {
      "text/plain": [
       "20"
      ]
     },
     "execution_count": 28,
     "metadata": {},
     "output_type": "execute_result"
    }
   ],
   "source": [
    "len(image_tags)"
   ]
  },
  {
   "cell_type": "code",
   "execution_count": 29,
   "id": "613867dd",
   "metadata": {},
   "outputs": [
    {
     "data": {
      "text/plain": [
       "b'\\xff\\xd8\\xff\\xe0\\x00\\x10JFIF\\x00\\x01\\x01\\x00\\x00\\x01\\x00\\x01\\x00\\x00\\xff\\xdb\\x00\\x84\\x00\\t\\x06\\x07\\x08\\x07\\x06\\t\\x08\\x07\\x08\\n\\n\\t\\x0b\\r\\x16\\x0f\\r\\x0c\\x0c\\r\\x1b\\x14\\x15\\x10\\x16 \\x1d\"\" \\x1d\\x1f\\x1f$(4,$&1\\'\\x1f\\x1f-=-157:::#+?D?8C49:7\\x01\\n\\n\\n\\r\\x0c\\r\\x1a\\x0f\\x0f\\x1a7%\\x1f%77777777777777777777777777777777777777777777777777\\xff\\xc0\\x00\\x11\\x08\\x00u\\x00\\xa2\\x03\\x01\"\\x00\\x02\\x11\\x01\\x03\\x11\\x01\\xff\\xc4\\x00\\x1c\\x00\\x00\\x01\\x05\\x01\\x01\\x01\\x00\\x00\\x00\\x00\\x00\\x00\\x00\\x00\\x00\\x00\\x00\\x01\\x02\\x03\\x04\\x05\\x06\\x07\\x08\\xff\\xc4\\x00?\\x10\\x00\\x01\\x03\\x02\\x04\\x01\\x06\\x0c\\x04\\x05\\x05\\x01\\x00\\x00\\x00\\x00\\x01\\x00\\x02\\x03\\x04\\x11\\x05\\x12!1A\\x06\\x13Qaq\\xb1\\x07\\x14\"#23Bbs\\x81\\x91\\xa14Rc\\xc1$DSr\\xd1%5\\x92\\xd2\\xf0\\x15\\xff\\xc4\\x00\\x19\\x01\\x00\\x03\\x01\\x01\\x01\\x00\\x00\\x00\\x00\\x00\\x00\\x00\\x00\\x00\\x00\\x00\\x00\\x01\\x03\\x02\\x04\\x05\\xff\\xc4\\x00&\\x11\\x00\\x02\\x02\\x01\\x03\\x04\\x02\\x02\\x03\\x00\\x00\\x00\\x00\\x00\\x00\\x00\\x00\\x01\\x02\\x11\\x03!2A\\x12#1\\x81Bq3a\"Q\\xc1\\xff\\xda\\x00\\x0c\\x03\\x01\\x00\\x02\\x11\\x03\\x11\\x00?\\x00\\xf0\\xf6\\xb4\\xb9\\xc1\\xad\\x17\\'@\\x11#\\x1d\\x1b\\xcb\\x1e\\xd2\\xd74\\xd8\\x83\\xc1:\\x9c\\xe5\\x9e3\\xd0\\xe1\\xde\\xadcZb\\xb5?\\x10\\xa5z\\xd1\\xaa\\xfe6R\\t\\xf2E$lc\\x9e\\xd2\\x03\\xc5\\xdazBhZ8\\x97\\xe00\\xf3\\xfag\\xbd&\\xe9\\xa4\\n6\\x9b3T\\x91\\xc3$\\x91\\xbd\\xec\\x17k\\x05\\xdd\\xd4\\xa3ZXq\\x1e%\\\\-\\xaeA\\xde\\x89:V\\x10V\\xe8\\xce\\xb5\\xd3\\xe0\\x85\\xf3\\xc9\\x921w$j\\xb7\\x87f\\x8eS6G9\\xac\\xd0\\x81\\xd7\\xb2rn\\x82)6Ss\\x0b\\\\\\xe6\\xbbB\\r\\x8aK.\\x82\\x0c?W\\xccDOs\\xee\\xe0\\xe3\\xad\\xba4Y\\xb5\\xed\\x95\\xd2y\\xe8\\xd8\\xd7\\x00}\\x06\\x81\\xf5E\\x83\\x89B\\xc9\\xd9J\\x9cB\\xdem\\xaenl\\xc7\\xa7d\\xc7\\xf4&*\\x1a\"q\\x8f8\\xb5\\xafd\\xcc\\xa5Y\\x81\\x86H\\xdf\\xd0\\xc6\\x97\\x15\\x08\\xdc\\xa5c\\xa4X\\xa0\\xc3\\xa4\\xac\\xac\\x8a\\x99\\x8ek].\\xc4\\xec\\x11\\xe2\\x12\\x19g\\x8f3o\\x0b\\x88wZ\\xd1\\xe4\\xd3\\xbf\\xd7\\xa8\\x8fj\\x89\\xef\\xb5}\\x7f\\x0b\\xc8\\xee\\xf2\\xa2\\xf2K\\xad\\xc7\\xf4UB=)\\xfe\\xcc\\xb1\\x192\\x06\\\\^\\xf6W\\xf1\\\\%\\xf8uLP\\xbeV\\xbc\\xc9\\x18\\x90\\x10:U&\\xfe$\\x7fx]\\x0f+]z\\xfa\\'Z\\xdf\\xc359d\\x92\\xc9\\x18\\xaelQ\\x82po\\xe8\\xe6\\xa4ac\\xacM\\xd3\\x14\\xd5\\x07\\xcbQ*\\xa2LD!\\t\\x88sM\\x9c\\x0fAW1\\x9dq:\\x83\\xef\\xfe\\xca\\x92\\xb3\\x89\\x1b\\xd6\\xcazm\\xdc\\x93\\xdck\\xe2W\\n\\xfdq\\xcd\\x87\\xd0\\xf54\\x8f\\xba\\xcfWj\\x9d|:\\x93\\xab2\\xcc\\xbc\\xa1\\xc7\\xc3)-\\x1c7\\xf0\\xb5\\xdf\\rg\\xad\\x0c3\\xd4V\\x0f\\xd2FM\\xa3\\xc7\\xb8\\xa3\\x13\\x83d\\x04\\xf0+s\\x08\\x13bU\\x8d\\xc3\\xb0\\xf0\\xe3QTC\\x19m8\\xde\\xe7\\xa8\\x0b\\xdf\\xaa\\xeb\\r\\xba\\xafK\\xf0\\x1f\\x87E&3U\\x88N\\xf6\\xb4\\xc5\\x11\\x8a\\x0c\\xdc^uu\\xbb\\x1b\\xdf\\xda\\x9c\\x97#\\xc7wG_A\\xc8\\x1c#\\x0b\\xc1\\xe3\\x8a\\xa2\\x9cU\\xd4\\x91w\\xcc\\xfd\\xc9\\xe3n\\x80\\xb9<o\\x93X[\\\\\\xec\\x82H\\x00\\xe0\\xd7h\\xbdS\\x1f\\xc4i\\xe8\\xe9\\xdb\\xe3\\x15\\x10\\xb4\\x91\\xa3K\\xc0\\'\\xb1p\\xf8\\xbc\\x94\\xb5L21\\xecx\\xb7\\x02\\xb9\\xaeI\\xdd\\x9e\\x82\\x8c:j\\x8f;\\x97\\x0bm#\\x9b<\\xber\\x9c8\\xf9.\\x1a\\x9f\\xf2\\xb9\\xfa\\xa9\\x03\\xe5q\\r\\r\\x1c\\x07B\\xdd\\xe55T\\xaep\\x84\\xdc\\xc4\\x0f\\x92A\\\\\\xeb\\x9d\\xd2\\x17L<jy\\xd94z\\x16h\\xa5\\x11\\xc5R\\r\\x8ex\\x88\\n\\xb3x\\xa1\\x8e-\\xbe\\xbc\\x08H\\xde)\\xd6\\xa6oJ5y6\\xebc\\x94w\\xfc\\xca*\\x83lB\\xb7\\xe2\\xbb\\xbd/\\'\\xdd\\x97\\x18\\xa5>\\xfa\\x8e\\xac\\xdb\\x10\\xab\\xf8\\xae\\xefPk\\xb8\\xfe\\xbf\\xd2\\xc9\\xf6\\xd7\\xd9U\\xbe\\xbc\\x1fyn\\xf2\\xad\\xc5\\xd5TF\\xdf\\xcb\\x05\\x82\\xd3\\xe7\\x81\\xf7\\x82\\xda\\xe5)\\xbc\\xd4F\\xe4\\xf9\\x8b\"k\\xb9\\x1fa\\x07\\xdb\\x97\\xa3\\x12s\\xe5\\xa8\\xd3\\xe5\\xd4\\xa8\\xd5\\xd1\\x06*D!1\\n\\xa7\\xac\\xd6bz@\\xeeP)j\\r\\xde\\x0f\\xba\\x12\\xe4|\\x11+S\\x9f\\xe0)\\xfa\\x8b\\x95n\\n\\xcc\\x9a\\xd0\\xc5\\xd4\\xe2\\x93\\xe0\\xd2\\xf0\\xca\\xdc\\x16\\x8e\\x19\\xea\\xaa\\xba\\xe2Y\\xca\\xf6\\x1at\\xa8\\x1f\\xa4R\\xc9\\xb4p\\xdcSb\\xf5\\xcf\\x04l\\x9a\\x87\\x93x\\x86\\'QP\\xe8\\xe8|c\\xc9\\x8c\\x01\\xe5\\x16\\x81wu\\xf0\\x1f#\\xf2\\xf2F\\xee\\xbd\\x87\\x91\\x14\\x8c\\xc6\\xfc\\x1a\\x1c>:\\xc6\\xd2\\x91Q#^\\xe74\\x10N`\\xebn4\\xb1\\x1cQ7\\xa1L\\n\\xe6j\\xe0R\\xd5cp\\xd5\\xd6\\xb9\\xed\\x11\\xcb#\\xf2\\xb7\\x9bk\\xae\\xdby\"\\xe7mI+\\x12\\xa7\\x084q\\xcdUT\\xf8\\xd8\\xe0m\\xe6\\xf6w\\xc9t|\\x9c\\x82<\\x1a\\x86zgL\\xc7\\x0b\\xdc5\\xa2\\xcdi\\xb0\\x06\\xddW\\xb9\\xf9\\xaeC\\x1f\\xac\\x96\\xad\\xb5Q\\xb5\\xa4\\x06\\xdc9\\xce\\xe1\\xd8\\xa1|\\x1d\\xd2\\x8a\\xab8\\xbcrfJK\\x9a\\xeb\\xdd\\xdb\\x05\\x9d\\xe2Y\\x9a\\xe2\\x1cK\\xc5\\xf2\\xb47GX\\\\\\xeb\\xd8\\x865\\xcf\\x7f4.\\xef+n\\xc5v\\xb2\\xa4QP\\xd3\\xd2B2\\xce\\xc7=\\xf2I\\xa16{@\\x00t\\x0c\\xb7\\xd3\\xa5\\xc7\\xa1]\\x7fG\\x9f*v\\xd9\\x8awJ4A\\xecJ\\x00;\\x95B%\\xcc\\x1c\\xdb\\x12\\xa5#\\xf3\\x84V\\xe9\\x88U|C\\xde\\x9b\\x85\\x9bb4\\xe7\\xdf\\tk\\xbf\\xdc*~!Q\\x7f\\x93\\xd1k\\xed\\xfb*\\x8fZ\\xde\\xd5\\xb1\\xca\\x03sE\\xf0\\x7fu\\x90=c{V\\xae;\\xb5!?\\xd3\\xfd\\xd2\\x97\\xe4\\x8f\\xb1\\xc7d\\x8c\\x89\\x13\\x13\\xde\\xa3VDX!\\x08@\\x85Ny\\xbd\\xbb\\x13P\\x80\\x0e\\n\\xd1\\xd6\\x85\\x9f\\xdeUn\\n\\xcf\\xf2M\\x1e\\xf9Y\\x91\\xa8\\x95\\xce\\xea\\xe6\\x1b\\xe9\\xcc?L\\xaaguk\\x0f\\xbey,m\\xe4\\x14Ki\\xa8\\xf9+\\xb7p\\xbd_\\xc1\\x14\\xb0W`\\xb8\\x86\\x1b3X\\x1fM?<\\xd79\\xa1\\xd7\\x12\\x00-c\\xd7\\x1f\\xddy@\\xddi\\xe0U\\xf8\\x86\\x19[\\xcfa\\xf3:\\'<ep\\x1b<t\\x11\\xc4!\\xabC\\x84\\xfa$\\x99\\xeb\\xb1\\xd3\\xd1\\xe1\\x92\\xcfS1i\\xb0\\xd1\\xa4\\xd8;\\xaa\\xc3E\\xcb\\xe2\\xd5\\xa1\\xfc\\xf3sft\\xa71\\xca6\\xea\\xee[m\\xe4\\xf5N7\\x87EW\\x0c\\xe1\\xd3:\\x9a\\n\\x87\\xc2\\xe7\\x1b\\xb4H\\xc0\\xe0[\\xd2/\\x98k\\xf9V5N\\r]M!a\\x8d\\xa4\\xf4\\xdf^\\xe5\\x15\\ru;\\x1eN\\xa5\\xa1\\xc4KI4\\x0et\\xa4\\x96\\xb8\\x92@\\x06\\xc4,\\xc7\\x82\\t\\xfb\\xafC8,\\xa4\\xf9\\xd6\\xb6\\xce\\xbe\\xc6\\xeb\\x98\\xe5\\x16\\x160\\xb2\\xc6\\xb9\\xcd2L\\xcep7\\x8bY{6\\xfd\\xba\\x9e\\xcbt\\xab\\xc4\\xe4\\xc9\\x1aV`\\x93\\xa5\\x88H\\x8b%\\xd9h\\x89%4\\xdc\\xcdDr[\\xd0p*J\\x89[5T\\xb27g\\xb8\\x90\\xaa\\xa7\\xc6\\xb2\\xd2\\xbb4\\x9e\\x94/\\xb6;V\\x9e4|\\x8a]}\\x82\\xb3\\x07\\xa6\\x16\\x8e.o\\x1d)\\xf7J\\x9c\\xb7D\\xa4v\\xb35\\xc5F\\x9e\\xe4\\xc5RL\\x10\\x84 B\\x84\\x14%L\\x04V\\x07\\xe1m\\xef\\xaa\\xeav\\xfe\\x1c\\xff\\x00r\\xcc\\x8dD\\x8e\\xc4\\xec.\\xac\\xd31\\xec%\\xc0n-d\\xeax\\xb5\\x8f\\xde\\xba\\xd2d-h\\xbf\\x15\\xa5\\x1bB\\xb2\\x8cT\\x84[\\xc9\\xfa\\xab\\xf4q5\\x97w\\xb5\\xdc\\x9c\\xd0\\x089\\x87\\x14\\xe8[\\x90<\\xf0\\xb5\\xd6\\xd2\\x11\\xeb\\xbc\\x9f\\x15?\\xfc\\x9c\\x02\\xa3\\r{\\rL8\\\\l\\x9e\\x99\\xe6\\xde1\\x19\\xb9ha\\xfc\\xcd\\x1a\\xed\\xedu\\xa9\\xe0\\x92\\x9b\\x15\\xad\\x022\\x04\\xc7\\xd8v\\x85ix=\\xa7\\x8a~J\\xe1\\xd5\\xae\\x8f4\\xf1F\\xd66\\xe3P\\xc640\\x01\\xd7a~\\xd5k\\x1f\\xc2\\xa90\\xcf\\x16\\xc5\\xf0\\xf8\\xbc\\xe3\\xea\\x1a&m\\xc9\\x0e\\xcf\\xc6\\xdc\\r\\xcf\\xddK.?\\x92:1d\\xf8\\xc8\\xe7\\xaah\\xa2\\x8d\\xf2\\xc9Q\\x19<\\xd8ql \\x80e z#\\xa0\\x13\\xa5\\xd7\\x8ar\\x82\\xb2z\\xfa\\xa9k*\\x8d\\xe6\\x9d\\xe5\\xee\\x16\\xb0h\\xe0\\x00\\xe0\\x06\\xc0t\\x05\\xee\\xbc\\xae\\x89\\xf4\\x18\\xac5\\x0f\\xd6Y\"\\r\\x89\\x9c\\x1a5\\xd4\\xf5\\xdc\\x95\\xe3\\\\\\xb6\\x8a\\x08yI[MNC\\xdb\\x14\\x99\\x1e\\xe6\\xed\\xce\\x0fN\\xddY\\xb3*F)D\\x96I\\xb9H\\xe7!\\xf5\\x82\\xfcT\\xcf\\x84\\x11p\\x9ab, \\x93\\xb1\\xe0\\xa4\\xccl\\xe3\\xc0\\x14\\x18)\\xbd\\xa5\\xa6\\xc9cV\\x1c\\x03\\x85\\xd4.\\x01\\xa2\\xfcIYhho\\xb4\\xafb>\\xaa\\x0e\\xc2\\xb3\\xee\\xa4t\\xce{C^v\\xd9a\\xc7T\\xcd\\xa9h\\xd0\\xc7&\\'\\x94\\x8dm\\xd6\\x8c\\rB\\x93\"\\x10\\x141\\t\\x12\\xa0@\\xa6g\\xab\\xb7\\xbc\\xa2\\xb6\\x8aza{\\x0e\\xb4y\\x1a4\\x9a\\xd0\\xd9\\xa9\\x80\\xe8=\\xca\\xe8\\xd9V#\\xce\\xd3\\xf5^\\xff\\x00\\xf1V@\\xd1PC\\x0e\\x80\\xf6\\xa9\\xe8\\x9a\\xc9\\x1d$ovW\\xba7sw\\xb5\\x8b\\xb7\\x00\\xf5\\x1d~vP\\x91pBsE\\xa1\\x91\\xc3p\\xd3d\\x01\\xee>\\n*\\xb9\\xdeH\\xd3\\xc4\\x0b\\xc9\\xa6{\\xa2/s\\x0bC\\xacz\\xfbV\\xd6!YT\\xf9\\xe5\\xa6\\xa2kD\\x103<\\xb3\\x16\\x87dp\\xf2\\x80h<o\\xf4\\\\\\xef\\x82V\\xdb\\x920\\x96:\\xe2I\\t\\xccM\\xeel3}\\xee>K\\xb0||\\xd42\\x98\\x86\\xe4|\\xc9p\\'\\xbc\\xad\\xa5\\xa0\\x99\\x83\\x89\\xd2\\xd1a\\xb4\\xb58\\xc5s\\x9fU-,N\\x93\\x9c\\x9d\\xf9\\xaeZ.,6\\xdf\\xa9|\\xe2\\xf9d\\xaa\\xaa\\x96y]\\x9aI\\x1e^\\xe3\\xd2\\xe2nO\\xd4\\xaff\\xf0\\xd5\\x8b6\\x8b\\x01\\x83\\x0b\\x84\\x9er\\xbaK\\xbe\\xdf\\xd3a\\x07\\xee\\xeb}\\n\\xf1\\x98\\x80kn\\xb3 D\\x13\\xb8\\xe6\\x03\\x89;$\\x94\\xe5cZ8\\x04\\xd2s\\xcc_\\xc3\\x82d\\xa6\\xeb#\\x06\\x92FQ\\xb9\\xd0&L\\xeb\\xbe\\xc3f\\xe8\\x12\\xc2r\\xbf7\\xe5\\x04\\x8e\\xd5\\x19I\\x80\\x88B\\x12\\x00;%\\x06\\xc1!\\xd9+R\\x00\\xccP\\x92\\xc8@\\xc4J\\x91*\\x04/\\x05o\\x0fm\\xe6\\x1d\\x17\\xba\\xa6\\xb4p\\xb6\\xea^v\\t\\xa04\\x00\\xbc\\xcc\\xb9\\xd4\\\\\\x8f\\xa5\\x95\\x967EJ9G\\x8d\\x86\\x9fi\\xb6\\x17\\xff\\x00\\xddJ\\xfb-m\\xd6\\xc0am\\x8ay\\x03#\\xc7\\x02\\xd4\\x93\\x8c\\xac\\x0e\\xbaJc\\x9a7\\x03\\xbd\\xbe\\xc8\\x03\\xd8<\\x0cI\\xcerN8\\xef\\xe8\\xc9k|\\x87\\xf8]\\xa4/\\x91\\xd05\\x937-\\xea\\x1e\\x06\\xbe\\x93E\\xc8\\xfb\\xdbN\\xa5\\xe6\\x1e\\x03*\\x8f9=&\\xbb\\x1f\\xa3o\\xff\\x00e\\xdf\\xf2\\xcb\\x13\\x18.\\x13S\\\\\\xd2\\x01\\xa5\\xa5\\x91\\xe2\\xfbs\\x8e-l\\x7f{\\xad\\xde\\x82\\xe4\\xf0\\xcf\\t\\xf8\\xc0\\xc69cTcq0R\\x1f\\x15\\x8c_O \\x90\\xe3\\xf3vo\\xb2\\xe5\\xa56nQ\\xdaP\\\\\\xe78\\xbd\\xe4\\xbd\\xce;\\x9d\\xc9\\xe9I%\\x9a\\xcc\\xbb\\xdfr\\xa62\\xb96\\x1a(\\xce\\xc5))\\x0e\\xd7@\\x11\\xedt\\x89JE\\x90\\x04!\"\\x00R\\x80\\x91\\t\\x00\\xf4&!\\x03\\xb1P\\x84& Z\\xd8sG4A\\xda\\xd7H\\x84\\xd0\\x15\\x99;\\x9d[\\x1b\\xce\\xf9\\xc0]\\x04{\\x1e\\xc4\\xa8Z\\x01\\xb5^\\x85\\xba\\x94t\\xe6\\xceh\\xe0tB\\x13\\x03\\xb9\\xf0\\x1e\\xe2\\xdeUb,\\x1b\\x08\\x9cG\\xd4-\\x8f\\x0e\\x98\\x8c\\xd1RS\\xd02\\xc2)\\x9e\\x0b\\xcfNQp>\\xaf\\xfb!\\t\\xf0.O\\x19\\xa6\\x19\\xa7u\\xfd\\x81a\\xf3QT\\xbb\\xcbp\\x1a\\x00\\x84,\\x0c\\xacJiq(B@5\\x08B@\\x08B\\x10\\x02!\\x08H\\x01\\x08B\\x00\\xff\\xd9'"
      ]
     },
     "execution_count": 29,
     "metadata": {},
     "output_type": "execute_result"
    }
   ],
   "source": [
    "requests.get(\"https://encrypted-tbn0.gstatic.com/images?q=tbn:ANd9GcQY_R5NSNoZkSlMo3hf86COGJ4fCv0s6Nx4k8uCGkWc6YGOn_m4-rIOQ3GhOhg&s\").content"
   ]
  },
  {
   "cell_type": "code",
   "execution_count": 30,
   "id": "38d6c936",
   "metadata": {},
   "outputs": [],
   "source": [
    "save_dir=\"images/\"\n",
    "if not os.path.exists(save_dir):\n",
    "    os.makedirs(save_dir)"
   ]
  },
  {
   "cell_type": "code",
   "execution_count": 31,
   "id": "e58d9e7f",
   "metadata": {},
   "outputs": [
    {
     "name": "stdout",
     "output_type": "stream",
     "text": [
      "0\n",
      "1\n",
      "2\n",
      "3\n",
      "4\n",
      "5\n",
      "6\n",
      "7\n",
      "8\n",
      "9\n",
      "10\n",
      "11\n",
      "12\n",
      "13\n",
      "14\n",
      "15\n",
      "16\n",
      "17\n",
      "18\n",
      "19\n"
     ]
    }
   ],
   "source": [
    "for i in image_tags:\n",
    "    print(image_tags.index(i))"
   ]
  },
  {
   "cell_type": "code",
   "execution_count": 32,
   "id": "222d54d1",
   "metadata": {},
   "outputs": [],
   "source": [
    "for i in image_tags:\n",
    "    image_url=i['src']\n",
    "    image_data=requests.get(image_url).content\n",
    "    with open(os.path.join(save_dir,f\"{query}_{image_tags.index(i)}.jpg\"),\"wb\") as f:\n",
    "        f.write(image_data)"
   ]
  },
  {
   "cell_type": "code",
   "execution_count": null,
   "id": "d8a3e2b9",
   "metadata": {},
   "outputs": [],
   "source": []
  },
  {
   "cell_type": "code",
   "execution_count": null,
   "id": "57922268",
   "metadata": {},
   "outputs": [],
   "source": []
  }
 ],
 "metadata": {
  "kernelspec": {
   "display_name": "Python 3 (ipykernel)",
   "language": "python",
   "name": "python3"
  },
  "language_info": {
   "codemirror_mode": {
    "name": "ipython",
    "version": 3
   },
   "file_extension": ".py",
   "mimetype": "text/x-python",
   "name": "python",
   "nbconvert_exporter": "python",
   "pygments_lexer": "ipython3",
   "version": "3.9.7"
  }
 },
 "nbformat": 4,
 "nbformat_minor": 5
}
